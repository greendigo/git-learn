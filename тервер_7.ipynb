{
 "cells": [
  {
   "cell_type": "markdown",
   "id": "9cdf2d30",
   "metadata": {},
   "source": [
    "1-4 задачи решать с помощью функций, 5ю вручную\n",
    "Выберете тест и проверьте, есть ли различия между выборками:\n",
    "Задача 1. Даны две независимые выборки. Не соблюдается условие нормальности\n",
    "x1 380,420, 290\n",
    "y1 140,360,200,900\n",
    "Сделайте вывод по результатам, полученным с помощью функции, имеются ли статистические различия между группами?\n",
    "\n",
    "\n",
    "\n"
   ]
  },
  {
   "cell_type": "code",
   "execution_count": 1,
   "id": "73c2f9ae",
   "metadata": {
    "scrolled": true
   },
   "outputs": [
    {
     "data": {
      "text/plain": [
       "MannwhitneyuResult(statistic=8.0, pvalue=0.6285714285714286)"
      ]
     },
     "execution_count": 1,
     "metadata": {},
     "output_type": "execute_result"
    }
   ],
   "source": [
    "import numpy as np\n",
    "import scipy.stats as st\n",
    "\n",
    "x1 = np.array([380, 420, 290])\n",
    "x2 = np.array([140, 360, 200, 900])\n",
    "\n",
    "st.mannwhitneyu(x1, x2)"
   ]
  },
  {
   "cell_type": "markdown",
   "id": "fd3ab140",
   "metadata": {},
   "source": [
    "Ответ: при alpha=0.05 (pvalue>alpha) статистические различия отсутствуют."
   ]
  },
  {
   "cell_type": "markdown",
   "id": "3ee2b6d5",
   "metadata": {},
   "source": [
    "Задача 2. Исследовалось влияние препарата на уровень давления пациентов. Сначала\n",
    "измерялось давление до приема препарата, потом через 10 минут и через 30 минут. Есть\n",
    "ли статистически значимые различия между измерениями давления? В выборках не соблюдается условие нормальности.\n",
    "1е измерение до приема препарата: 150, 160, 165, 145, 155\n",
    "2е измерение через 10 минут: 140, 155, 150, 130, 135\n",
    "3е измерение через 30 минут: 130, 130, 120, 130, 125"
   ]
  },
  {
   "cell_type": "code",
   "execution_count": 2,
   "id": "3669af42",
   "metadata": {},
   "outputs": [
    {
     "data": {
      "text/plain": [
       "FriedmanchisquareResult(statistic=9.578947368421062, pvalue=0.00831683351100441)"
      ]
     },
     "execution_count": 2,
     "metadata": {},
     "output_type": "execute_result"
    }
   ],
   "source": [
    "x1 = np.array([150, 160, 165, 145, 155])\n",
    "x2 = np.array([140, 155, 150, 130, 135])\n",
    "x3 = np.array([130, 130, 120, 130, 125])\n",
    "\n",
    "st.friedmanchisquare(x1, x2, x3)"
   ]
  },
  {
   "cell_type": "markdown",
   "id": "87d30e64",
   "metadata": {},
   "source": [
    "Ответ: при alpha=0.05 (pvalue<alpha) статистические различия присутствуют. Препарат влияет на давление."
   ]
  },
  {
   "cell_type": "markdown",
   "id": "9c81a6f0",
   "metadata": {},
   "source": [
    "Задача 3. Сравните 1 и 2 е измерения, предполагая, что 3го измерения через 30 минут не было. Есть\n",
    "ли статистически значимые различия между измерениями давления?"
   ]
  },
  {
   "cell_type": "code",
   "execution_count": 3,
   "id": "f52e7b87",
   "metadata": {},
   "outputs": [
    {
     "data": {
      "text/plain": [
       "WilcoxonResult(statistic=0.0, pvalue=0.0625)"
      ]
     },
     "execution_count": 3,
     "metadata": {},
     "output_type": "execute_result"
    }
   ],
   "source": [
    "x1 = np.array([150, 160, 165, 145, 155])\n",
    "x2 = np.array([140, 155, 150, 130, 135])\n",
    "\n",
    "st.wilcoxon(x1, x2)"
   ]
  },
  {
   "cell_type": "markdown",
   "id": "27b71ae5",
   "metadata": {},
   "source": [
    "Ответ: при alpha=0.05 (pvalue>alpha) статистические различия отсуствуют. Препарат незначительно влияет на давление через 10 минут."
   ]
  },
  {
   "cell_type": "markdown",
   "id": "dec8e369",
   "metadata": {},
   "source": [
    "Задача 4. Даны 3 группы учеников плавания. Не соблюдается условие нормальности.\n",
    "В 1 группе время на дистанцию 50 м составляют:\n",
    "56, 60, 62, 55, 71, 67, 59, 58, 64, 67\n",
    "Вторая группа : 57, 58, 69, 48, 72, 70, 68, 71, 50, 53\n",
    "Третья группа: 57, 67, 49, 48, 47, 55, 66, 51, 54\n",
    "Есть\n",
    "ли статистически значимые различия между группами?"
   ]
  },
  {
   "cell_type": "code",
   "execution_count": 5,
   "id": "5b780c24",
   "metadata": {},
   "outputs": [
    {
     "data": {
      "text/plain": [
       "KruskalResult(statistic=5.465564058257224, pvalue=0.0650380998590494)"
      ]
     },
     "execution_count": 5,
     "metadata": {},
     "output_type": "execute_result"
    }
   ],
   "source": [
    "x1 = np.array([56, 60, 62, 55, 71, 67, 59, 58, 64, 67])\n",
    "x2 = np.array([57, 58, 69, 48, 72, 70, 68, 71, 50, 53])\n",
    "x3 = np.array([57, 67, 49, 48, 47, 55, 66, 51, 54])\n",
    "\n",
    "st.kruskal(x1, x2, x3)"
   ]
  },
  {
   "cell_type": "markdown",
   "id": "7a93d3ed",
   "metadata": {},
   "source": [
    "Ответ: при alpha=0.05 (pvalue>alpha) статистические различия отсутствуют."
   ]
  },
  {
   "cell_type": "markdown",
   "id": "5763ed04",
   "metadata": {},
   "source": [
    "Задача 5. Заявляется, что партия изготавливается со средним арифметическим 2,5 см. Проверить\n",
    "данную гипотезу, если известно, что размеры изделий подчинены нормальному закону\n",
    "распределения. Объем выборки 10, уровень статистической значимости 5%\n",
    "2.51, 2.35, 2.74, 2.56, 2.40, 2.36, 2.65, 2.7, 2.67, 2.34"
   ]
  },
  {
   "cell_type": "code",
   "execution_count": 10,
   "id": "0b3d8ad0",
   "metadata": {},
   "outputs": [
    {
     "data": {
      "text/plain": [
       "(2.5279999999999996,\n",
       " 0.5935187931919458,\n",
       " 1.959963984540054,\n",
       " -1.9599639845400545)"
      ]
     },
     "execution_count": 10,
     "metadata": {},
     "output_type": "execute_result"
    }
   ],
   "source": [
    "# сигма известна - используется z-критерий\n",
    "x = np.array([2.51, 2.35, 2.74, 2.56, 2.40, 2.36, 2.65, 2.7, 2.67, 2.34])\n",
    "\n",
    "x_mean = np.mean(x)\n",
    "x_std=np.std(x)\n",
    "x_n=10\n",
    "z=(x_mean-2.5)/(x_std/np.sqrt(10))\n",
    "\n",
    "z_cr1 = st.norm.ppf(1-0.05/2)\n",
    "z_cr2 = st.norm.ppf(0.05/2)\n",
    "(x_mean, z, z_cr1, z_cr2)"
   ]
  },
  {
   "cell_type": "markdown",
   "id": "6295210a",
   "metadata": {},
   "source": [
    "Ответ: среднее арифметическое партии можно считать равным 2.5, поскольку найденное значение z находится в интервале (-1.959, 1.959)"
   ]
  },
  {
   "cell_type": "code",
   "execution_count": null,
   "id": "c9ad13a3",
   "metadata": {},
   "outputs": [],
   "source": []
  }
 ],
 "metadata": {
  "kernelspec": {
   "display_name": "Python 3 (ipykernel)",
   "language": "python",
   "name": "python3"
  },
  "language_info": {
   "codemirror_mode": {
    "name": "ipython",
    "version": 3
   },
   "file_extension": ".py",
   "mimetype": "text/x-python",
   "name": "python",
   "nbconvert_exporter": "python",
   "pygments_lexer": "ipython3",
   "version": "3.10.9"
  }
 },
 "nbformat": 4,
 "nbformat_minor": 5
}
