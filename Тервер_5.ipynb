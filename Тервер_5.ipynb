{
 "cells": [
  {
   "cell_type": "markdown",
   "id": "a5dcff8b",
   "metadata": {},
   "source": [
    "Задача 1. Когда используется критерий Стьюдента, а когда Z –критерий?"
   ]
  },
  {
   "cell_type": "markdown",
   "id": "c1b0190e",
   "metadata": {},
   "source": [
    "Ответ: в условиях нормально распределения, когда известно СКО генеральной совокупности, используется Z-критерий, в противном случае критерий Стьюдента.\n"
   ]
  },
  {
   "cell_type": "markdown",
   "id": "6d055c70",
   "metadata": {},
   "source": [
    "Задачи 2,3 решать вручную\n",
    "Задача 2. Проведите тест гипотезы. Утверждается, что шарики для подшипников, изготовленные\n",
    "автоматическим станком, имеют средний диаметр 17 мм.\n",
    "Используя односторонний критерий с α=0,05, проверить эту гипотезу, если в выборке из\n",
    "n=100 шариков средний диаметр\n",
    "оказался равным 17.5 мм, а дисперсия известна и равна 4 кв. мм.\n"
   ]
  },
  {
   "cell_type": "code",
   "execution_count": 4,
   "id": "26305250",
   "metadata": {
    "scrolled": true
   },
   "outputs": [
    {
     "data": {
      "text/plain": [
       "2.5"
      ]
     },
     "execution_count": 4,
     "metadata": {},
     "output_type": "execute_result"
    }
   ],
   "source": [
    "import numpy as np\n",
    "import scipy.stats as stats\n",
    "\n",
    "# H0: m=17\n",
    "# H1: m>17\n",
    "# правосторонний тест\n",
    "alpha = 0.05\n",
    "std=2\n",
    "n=100\n",
    "\n",
    "z=(17.5-17)/(2/10)\n",
    "z"
   ]
  },
  {
   "cell_type": "code",
   "execution_count": 5,
   "id": "b67d9a48",
   "metadata": {
    "scrolled": true
   },
   "outputs": [
    {
     "data": {
      "text/plain": [
       "1.6448536269514722"
      ]
     },
     "execution_count": 5,
     "metadata": {},
     "output_type": "execute_result"
    }
   ],
   "source": [
    "z_cr = stats.norm.ppf(1 - alpha)\n",
    "z_cr"
   ]
  },
  {
   "cell_type": "markdown",
   "id": "0b1b00ca",
   "metadata": {},
   "source": [
    "Ответ: Нулевая гипотеза отвергается, поскольку z>z_cr. Диаметр подшипников больше 17мм"
   ]
  },
  {
   "cell_type": "markdown",
   "id": "d782a53b",
   "metadata": {},
   "source": [
    "Задача 3. Проведите тест гипотезы. Продавец утверждает, что средний вес пачки печенья\n",
    "составляет 200 г.\n",
    "Из партии извлечена выборка из 10 пачек. Вес каждой пачки составляет:\n",
    "202, 203, 199, 197, 195, 201, 200, 204, 194, 190.\n",
    "Известно, что их веса распределены нормально.\n",
    "Верно ли утверждение продавца, если учитывать, что доверительная вероятность равна\n",
    "99%? (Провести двусторонний тест.)"
   ]
  },
  {
   "cell_type": "code",
   "execution_count": 9,
   "id": "570265b7",
   "metadata": {},
   "outputs": [
    {
     "data": {
      "text/plain": [
       "(198.5, -1.1227217828476797, 2.5758293035489004, -2.575829303548901)"
      ]
     },
     "execution_count": 9,
     "metadata": {},
     "output_type": "execute_result"
    }
   ],
   "source": [
    "# H0: m=200\n",
    "# H1: m<>200\n",
    "# двусторонний тест\n",
    "alpha = 0.01\n",
    "\n",
    "x = np.array([202, 203, 199, 197, 195, 201, 200, 204, 194, 190])\n",
    "x_mean = np.mean(x)\n",
    "x_std=np.std(x)\n",
    "x_n=10\n",
    "z=(x_mean-200)/(x_std/np.sqrt(10))\n",
    "\n",
    "z_cr1 = stats.norm.ppf(1-0.01/2)\n",
    "z_cr2 = stats.norm.ppf(0.01/2)\n",
    "(x_mean, z, z_cr1, z_cr2)"
   ]
  },
  {
   "cell_type": "markdown",
   "id": "ccfdaa0e",
   "metadata": {},
   "source": [
    "Ответ: средний вес пачки печенья равен 200, поскольку значение z находится в интервале (-2.575, 2.575)"
   ]
  },
  {
   "cell_type": "markdown",
   "id": "930bcb74",
   "metadata": {},
   "source": [
    "Задачу 4 решать с помощью функции.\n",
    "Задача 4. Есть ли статистически значимые различия в росте\n",
    "дочерей?\n",
    "Рост матерей 172, 177, 158, 170, 178,175, 164, 160, 169, 165\n",
    "Рост взрослых дочерей: 173, 175, 162, 174, 175, 168, 155, 170, 160, 163"
   ]
  },
  {
   "cell_type": "code",
   "execution_count": 10,
   "id": "091e3942",
   "metadata": {},
   "outputs": [],
   "source": [
    "# выборки зависимые!\n",
    "\n",
    "x = np.array([172, 177, 158, 170, 178,175, 164, 160, 169, 165])\n",
    "y = np.array([173, 175, 162, 174, 175, 168, 155, 170, 160, 163])\n",
    "\n",
    "\n"
   ]
  },
  {
   "cell_type": "code",
   "execution_count": 11,
   "id": "867f2633",
   "metadata": {},
   "outputs": [
    {
     "data": {
      "text/plain": [
       "(168.8, 167.5, 48.17777777777778, 50.5, 10, 10)"
      ]
     },
     "execution_count": 11,
     "metadata": {},
     "output_type": "execute_result"
    }
   ],
   "source": [
    "x_mean = np.mean(x)\n",
    "y_mean = np.mean(y)\n",
    "x_v = np.var(x, ddof=1)\n",
    "y_v = np.var(y, ddof=1)\n",
    "n_x = len(x)\n",
    "n_y = len(y)\n",
    "(x_mean, y_mean, x_v, y_v, n_x, n_y)"
   ]
  },
  {
   "cell_type": "code",
   "execution_count": 12,
   "id": "def5eb87",
   "metadata": {},
   "outputs": [
    {
     "data": {
      "text/plain": [
       "0.41384114976800535"
      ]
     },
     "execution_count": 12,
     "metadata": {},
     "output_type": "execute_result"
    }
   ],
   "source": [
    "t_emp = (x_mean - y_mean) / np.sqrt(x_v / n_x + y_v / n_y)\n",
    "t_emp"
   ]
  },
  {
   "cell_type": "code",
   "execution_count": 13,
   "id": "17a59bff",
   "metadata": {},
   "outputs": [
    {
     "data": {
      "text/plain": [
       "(-2.8784404727135864, 2.878440472713585)"
      ]
     },
     "execution_count": 13,
     "metadata": {},
     "output_type": "execute_result"
    }
   ],
   "source": [
    "alpha = 0.01\n",
    "n = 10\n",
    "\n",
    "t1 = stats.t.ppf(alpha / 2, df=2 * (n - 1))\n",
    "t2 = stats.t.ppf(1 - alpha / 2, df= 2 * (n - 1))\n",
    "t1, t2"
   ]
  },
  {
   "cell_type": "code",
   "execution_count": 14,
   "id": "0dfdd5c4",
   "metadata": {},
   "outputs": [
    {
     "data": {
      "text/plain": [
       "TtestResult(statistic=0.6648478531431979, pvalue=0.5228168632983574, df=9)"
      ]
     },
     "execution_count": 14,
     "metadata": {},
     "output_type": "execute_result"
    }
   ],
   "source": [
    "t=stats.ttest_rel(x, y)\n",
    "t"
   ]
  },
  {
   "cell_type": "markdown",
   "id": "136a5925",
   "metadata": {},
   "source": [
    "Ответ: pvalue>alpha, значит, статистически значимые различия есть. (statistic и t_emp не равны, судя по всему, из-за зависимости выборок)"
   ]
  },
  {
   "cell_type": "code",
   "execution_count": null,
   "id": "730fa615",
   "metadata": {},
   "outputs": [],
   "source": []
  }
 ],
 "metadata": {
  "kernelspec": {
   "display_name": "Python 3 (ipykernel)",
   "language": "python",
   "name": "python3"
  },
  "language_info": {
   "codemirror_mode": {
    "name": "ipython",
    "version": 3
   },
   "file_extension": ".py",
   "mimetype": "text/x-python",
   "name": "python",
   "nbconvert_exporter": "python",
   "pygments_lexer": "ipython3",
   "version": "3.10.9"
  }
 },
 "nbformat": 4,
 "nbformat_minor": 5
}
