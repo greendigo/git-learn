{
 "cells": [
  {
   "cell_type": "markdown",
   "id": "9099d787",
   "metadata": {},
   "source": [
    "Задача 1 Даны значения величины заработной платы заемщиков банка (zp) и значения их\n",
    "поведенческого кредитного скоринга (ks):\n",
    "zp = [35, 45, 190, 200, 40, 70, 54, 150, 120, 110],\n",
    "ks = [401, 574, 874, 919, 459, 739, 653, 902, 746, 832].\n",
    "Найдите ковариацию этих двух величин с помощью элементарных действий, а затем с\n",
    "помощью функции cov из numpy\n",
    "Полученные значения должны быть равны.\n",
    "Найдите коэффициент корреляции Пирсона с помощью ковариации и\n",
    "среднеквадратичных отклонений двух признаков,\n",
    "а затем с использованием функций из библиотек numpy и pandas."
   ]
  },
  {
   "cell_type": "code",
   "execution_count": 17,
   "id": "1213c92b",
   "metadata": {},
   "outputs": [
    {
     "data": {
      "text/plain": [
       "(9157.839999999997,\n",
       " array([[ 3882.93333333, 10175.37777778],\n",
       "        [10175.37777778, 33854.32222222]]))"
      ]
     },
     "execution_count": 17,
     "metadata": {},
     "output_type": "execute_result"
    }
   ],
   "source": [
    "import numpy as np\n",
    "import matplotlib.pyplot as plt\n",
    "import scipy.stats as stats\n",
    "\n",
    "x1 = np.array([35, 45, 190, 200, 40, 70, 54, 150, 120, 110])\n",
    "x2 = np.array([401, 574, 874, 919, 459, 739, 653, 902, 746, 832])\n",
    "\n",
    "covar = np.cov(x1, x2)\n",
    "covar_m = np.mean(x1*x2) - np.mean(x1)*np.mean(x2)\n",
    "covar_m, covar\n",
    "\n",
    "# если честно, я не понял, как правильно считать М(XY) :("
   ]
  },
  {
   "cell_type": "code",
   "execution_count": 18,
   "id": "34e44e74",
   "metadata": {},
   "outputs": [
    {
     "data": {
      "text/plain": [
       "<function matplotlib.pyplot.show(close=None, block=None)>"
      ]
     },
     "execution_count": 18,
     "metadata": {},
     "output_type": "execute_result"
    },
    {
     "data": {
      "image/png": "[encoded data removed]",
      "text/plain": [
       "<Figure size 640x480 with 1 Axes>"
      ]
     },
     "metadata": {},
     "output_type": "display_data"
    }
   ],
   "source": [
    "plt.scatter(x1, x2)\n",
    "plt.show"
   ]
  },
  {
   "cell_type": "code",
   "execution_count": 15,
   "id": "6ea1609b",
   "metadata": {},
   "outputs": [
    {
     "data": {
      "text/plain": [
       "array([[1.        , 0.88749009],\n",
       "       [0.88749009, 1.        ]])"
      ]
     },
     "execution_count": 15,
     "metadata": {},
     "output_type": "execute_result"
    }
   ],
   "source": [
    "np.corrcoef(x1, x2)"
   ]
  },
  {
   "cell_type": "markdown",
   "id": "04e18b29",
   "metadata": {},
   "source": [
    "Задача 2 Измерены значения IQ выборки студентов,\n",
    "обучающихся в местных технических вузах:\n",
    "131, 125, 115, 122, 131, 115, 107, 99, 125, 111.\n",
    "Известно, что в генеральной совокупности IQ распределен нормально.\n",
    "Найдите доверительный интервал для математического ожидания с надежностью 0.95."
   ]
  },
  {
   "cell_type": "code",
   "execution_count": 23,
   "id": "587e3be6",
   "metadata": {},
   "outputs": [
    {
     "data": {
      "text/plain": [
       "(125.25678744162938, 110.9432125583706)"
      ]
     },
     "execution_count": 23,
     "metadata": {},
     "output_type": "execute_result"
    }
   ],
   "source": [
    "# значение сигмы генеральной совокупности неизвестно\n",
    "x = np.array([131, 125, 115, 122, 131, 115, 107, 99, 125, 111])\n",
    "n = len(x)\n",
    "\n",
    "t = stats.t.ppf(0.05 / 2, df=(n-1))\n",
    "\n",
    "x_mean = np.mean(x)\n",
    "x_std=np.std(x)\n",
    "int_left=x_mean-t*(x_std/np.sqrt(n))\n",
    "int_right=x_mean+t*(x_std/np.sqrt(n))\n",
    "int_left, int_right"
   ]
  },
  {
   "cell_type": "markdown",
   "id": "c22d5bbd",
   "metadata": {},
   "source": [
    "Задача 3 Известно, что рост футболистов в сборной распределен нормально\n",
    "с дисперсией генеральной совокупности, равной 25 кв.см. Объем выборки равен 27,\n",
    "среднее выборочное составляет 174.2. Найдите доверительный интервал для\n",
    "математического\n",
    "ожидания с надежностью 0.95."
   ]
  },
  {
   "cell_type": "code",
   "execution_count": 26,
   "id": "2161c5db",
   "metadata": {},
   "outputs": [
    {
     "data": {
      "text/plain": [
       "(176.08597622346028, 172.3140237765397)"
      ]
     },
     "execution_count": 26,
     "metadata": {},
     "output_type": "execute_result"
    }
   ],
   "source": [
    "# значение сигмы генеральной совокупности известно\n",
    "\n",
    "\n",
    "n = 27\n",
    "\n",
    "z = stats.norm.ppf(0.05 / 2)\n",
    "\n",
    "x_mean = 174.2\n",
    "x_std=5\n",
    "int_left=x_mean-z*(x_std/np.sqrt(n))\n",
    "int_right=x_mean+z*(x_std/np.sqrt(n))\n",
    "int_left, int_right"
   ]
  },
  {
   "cell_type": "code",
   "execution_count": null,
   "id": "ddfd8c5b",
   "metadata": {},
   "outputs": [],
   "source": []
  }
 ],
 "metadata": {
  "kernelspec": {
   "display_name": "Python 3 (ipykernel)",
   "language": "python",
   "name": "python3"
  },
  "language_info": {
   "codemirror_mode": {
    "name": "ipython",
    "version": 3
   },
   "file_extension": ".py",
   "mimetype": "text/x-python",
   "name": "python",
   "nbconvert_exporter": "python",
   "pygments_lexer": "ipython3",
   "version": "3.10.9"
  }
 },
 "nbformat": 4,
 "nbformat_minor": 5
}
