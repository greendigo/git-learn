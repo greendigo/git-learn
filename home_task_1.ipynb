{
 "cells": [
  {
   "cell_type": "markdown",
   "id": "2ac5ea4a",
   "metadata": {},
   "source": [
    "## Условие 2:\n",
    "На складе лежат разные фрукты в разном количестве.\n",
    "Нужно написать функцию, которая на вход принимает любое количество названий фруктов и их количество, а возвращает общее количество фруктов на складе"
   ]
  },
  {
   "cell_type": "code",
   "execution_count": 19,
   "id": "deaa5e8c",
   "metadata": {},
   "outputs": [
    {
     "name": "stdout",
     "output_type": "stream",
     "text": [
      "{'Apples': 2, 'Bananas': 2, 'Oranges': 2}\n",
      "6\n"
     ]
    }
   ],
   "source": [
    "import random\n",
    "test_dict = {'Apples': random.randint(1, 10), 'Bananas': random.randint(1, 10), 'Oranges': random.randint(1, 10)}\n",
    "print(test_dict)\n",
    "def dict_sum(test_dict):\n",
    "    print(sum(test_dict[i] for i in test_dict))\n",
    "        \n",
    "dict_sum(test_dict)"
   ]
  },
  {
   "cell_type": "markdown",
   "id": "c504edbf",
   "metadata": {},
   "source": [
    "## Условие 3:\n",
    "Дан список с затратами на рекламу. Но в данных есть ошибки, некоторые затраты имеют отрицательную величину. Удалите такие значения из списка и посчитайте суммарные затраты"
   ]
  },
  {
   "cell_type": "code",
   "execution_count": 32,
   "id": "17833edd",
   "metadata": {},
   "outputs": [
    {
     "name": "stdout",
     "output_type": "stream",
     "text": [
      "1425\n"
     ]
    }
   ],
   "source": [
    "checklist = [100, 125, -90, 345, 655, -1, 0, 200]\n",
    "\n",
    "print(sum(i for i in checklist if i >= 0))"
   ]
  },
  {
   "cell_type": "markdown",
   "id": "d21d83e1",
   "metadata": {},
   "source": [
    "### Условие 4.1:\n",
    "Найдите, какая выручка у компании в ноябре"
   ]
  },
  {
   "cell_type": "code",
   "execution_count": 45,
   "id": "9cec6c22",
   "metadata": {
    "scrolled": true
   },
   "outputs": [
    {
     "name": "stdout",
     "output_type": "stream",
     "text": [
      "{'2021-09-14': 1270, '2021-12-15': 8413, '2021-09-08': 9028, '2021-12-05': 3703, '2021-10-09': 2732, '2021-09-30': 2008, '2021-12-22': 295, '2021-11-29': 4944, '2021-12-24': 5723, '2021-11-26': 3701, '2021-10-27': 4471, '2021-12-18': 651, '2021-11-09': 316, '2021-11-23': 4274, '2021-09-27': 6275, '2021-10-02': 4988, '2021-12-27': 6930, '2021-09-20': 2971, '2021-12-13': 6333, '2021-11-01': 2004, '2021-12-06': 519, '2021-12-08': 3406, '2021-10-31': 5015, '2021-10-26': 5700, '2021-12-09': 2887}\n",
      "['2021-11-29', '2021-11-26', '2021-11-09', '2021-11-23', '2021-11-01']\n",
      "15239\n"
     ]
    }
   ],
   "source": [
    "date_list = ['2021-09-14', '2021-12-15', '2021-09-08', '2021-12-05', '2021-10-09', '2021-09-30', '2021-12-22', '2021-11-29', '2021-12-24', '2021-11-26', '2021-10-27', '2021-12-18', '2021-11-09', '2021-11-23', '2021-09-27', '2021-10-02', '2021-12-27', '2021-09-20', '2021-12-13', '2021-11-01', '2021-11-09', '2021-12-06', '2021-12-08', '2021-10-09', '2021-10-31', '2021-09-30', '2021-11-09', '2021-12-13', '2021-10-26', '2021-12-09']\n",
    "summ_list = [1270, 8413, 9028, 3703, 5739, 4095, 295, 4944, 5723, 3701, 4471, 651, 7037, 4274, 6275, 4988, 6930, 2971, 6592, 2004, 2822, 519, 3406, 2732, 5015, 2008, 316, 6333, 5700, 2887]\n",
    "\n",
    "new_dict = dict(zip(date_list, summ_list))\n",
    "\n",
    "print(new_dict)\n",
    "\n",
    "print([i for i in new_dict if i[5:7]=='11'])\n",
    "\n",
    "print(sum(new_dict[i] for i in new_dict if i[5:7]=='11'))"
   ]
  },
  {
   "cell_type": "markdown",
   "id": "c08bbc61",
   "metadata": {},
   "source": [
    "### Условие 4.2:\n",
    "Найдите выручку компании в зависимости от месяца.\n",
    "Для этого напишите функцию, которая на вход принимает список с датами и список с выручкой, а на выходе словарь, где ключи - это месяцы, а значения - это выручка.\n",
    "Используйте аннотирование типов."
   ]
  },
  {
   "cell_type": "code",
   "execution_count": 49,
   "id": "191a627f",
   "metadata": {},
   "outputs": [
    {
     "name": "stdout",
     "output_type": "stream",
     "text": [
      "{'1': 0, '2': 0, '3': 0, '4': 0, '5': 0, '6': 0, '7': 0, '8': 0, '9': 0, '10': 22906, '11': 15239, '12': 38860}\n"
     ]
    },
    {
     "data": {
      "text/plain": [
       "{'1': 0,\n",
       " '2': 0,\n",
       " '3': 0,\n",
       " '4': 0,\n",
       " '5': 0,\n",
       " '6': 0,\n",
       " '7': 0,\n",
       " '8': 0,\n",
       " '9': 0,\n",
       " '10': 22906,\n",
       " '11': 15239,\n",
       " '12': 38860}"
      ]
     },
     "execution_count": 49,
     "metadata": {},
     "output_type": "execute_result"
    }
   ],
   "source": [
    "def month_dict(date_list: list, summ_list: list) -> dict:\n",
    "    res_dict = {}\n",
    "    temp_dict = dict(zip(date_list, summ_list))\n",
    "    for k in range(12):\n",
    "        res_dict[str(k+1)] = sum(new_dict[i] for i in new_dict if i[5:7]==str(k+1))\n",
    "    print(res_dict)\n",
    "    return res_dict\n",
    "\n",
    "month_dict(date_list, summ_list)\n",
    "        \n",
    "        "
   ]
  },
  {
   "cell_type": "code",
   "execution_count": null,
   "id": "f1ce9492",
   "metadata": {},
   "outputs": [],
   "source": []
  }
 ],
 "metadata": {
  "kernelspec": {
   "display_name": "Python 3 (ipykernel)",
   "language": "python",
   "name": "python3"
  },
  "language_info": {
   "codemirror_mode": {
    "name": "ipython",
    "version": 3
   },
   "file_extension": ".py",
   "mimetype": "text/x-python",
   "name": "python",
   "nbconvert_exporter": "python",
   "pygments_lexer": "ipython3",
   "version": "3.10.9"
  }
 },
 "nbformat": 4,
 "nbformat_minor": 5
}
