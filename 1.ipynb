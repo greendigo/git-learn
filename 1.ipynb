{
 "cells": [
  {
   "cell_type": "code",
   "execution_count": 1,
   "metadata": {},
   "outputs": [],
   "source": [
    "import warnings\n",
    "\n",
    "import numpy as np\n",
    "import pandas as pd\n",
    "from matplotlib import pyplot as plt\n",
    "\n",
    "warnings.filterwarnings('ignore')"
   ]
  },
  {
   "cell_type": "code",
   "execution_count": 2,
   "metadata": {},
   "outputs": [
    {
     "data": {
      "text/html": [
       "<div>\n",
       "<style scoped>\n",
       "    .dataframe tbody tr th:only-of-type {\n",
       "        vertical-align: middle;\n",
       "    }\n",
       "\n",
       "    .dataframe tbody tr th {\n",
       "        vertical-align: top;\n",
       "    }\n",
       "\n",
       "    .dataframe thead th {\n",
       "        text-align: right;\n",
       "    }\n",
       "</style>\n",
       "<table border=\"1\" class=\"dataframe\">\n",
       "  <thead>\n",
       "    <tr style=\"text-align: right;\">\n",
       "      <th></th>\n",
       "      <th>year</th>\n",
       "      <th>country</th>\n",
       "      <th>no</th>\n",
       "      <th>name</th>\n",
       "      <th>position</th>\n",
       "      <th>side</th>\n",
       "      <th>height</th>\n",
       "      <th>weight</th>\n",
       "      <th>birth</th>\n",
       "      <th>club</th>\n",
       "      <th>age</th>\n",
       "      <th>cohort</th>\n",
       "      <th>bmi</th>\n",
       "    </tr>\n",
       "  </thead>\n",
       "  <tbody>\n",
       "    <tr>\n",
       "      <th>0</th>\n",
       "      <td>2001</td>\n",
       "      <td>RUS</td>\n",
       "      <td>10</td>\n",
       "      <td>tverdovsky oleg</td>\n",
       "      <td>D</td>\n",
       "      <td>L</td>\n",
       "      <td>185</td>\n",
       "      <td>84.0</td>\n",
       "      <td>1976-05-18</td>\n",
       "      <td>anaheim mighty ducks</td>\n",
       "      <td>24.952772</td>\n",
       "      <td>1976</td>\n",
       "      <td>24.543462</td>\n",
       "    </tr>\n",
       "    <tr>\n",
       "      <th>1</th>\n",
       "      <td>2001</td>\n",
       "      <td>RUS</td>\n",
       "      <td>2</td>\n",
       "      <td>vichnevsky vitali</td>\n",
       "      <td>D</td>\n",
       "      <td>L</td>\n",
       "      <td>188</td>\n",
       "      <td>86.0</td>\n",
       "      <td>1980-03-18</td>\n",
       "      <td>anaheim mighty ducks</td>\n",
       "      <td>21.119781</td>\n",
       "      <td>1980</td>\n",
       "      <td>24.332277</td>\n",
       "    </tr>\n",
       "    <tr>\n",
       "      <th>2</th>\n",
       "      <td>2001</td>\n",
       "      <td>RUS</td>\n",
       "      <td>26</td>\n",
       "      <td>petrochinin evgeni</td>\n",
       "      <td>D</td>\n",
       "      <td>L</td>\n",
       "      <td>182</td>\n",
       "      <td>95.0</td>\n",
       "      <td>1976-02-07</td>\n",
       "      <td>severstal cherepovetal</td>\n",
       "      <td>25.229295</td>\n",
       "      <td>1976</td>\n",
       "      <td>28.680111</td>\n",
       "    </tr>\n",
       "    <tr>\n",
       "      <th>3</th>\n",
       "      <td>2001</td>\n",
       "      <td>RUS</td>\n",
       "      <td>28</td>\n",
       "      <td>zhdan alexander</td>\n",
       "      <td>D</td>\n",
       "      <td>R</td>\n",
       "      <td>178</td>\n",
       "      <td>85.0</td>\n",
       "      <td>1971-08-28</td>\n",
       "      <td>ak bars kazan</td>\n",
       "      <td>29.675565</td>\n",
       "      <td>1971</td>\n",
       "      <td>26.827421</td>\n",
       "    </tr>\n",
       "    <tr>\n",
       "      <th>4</th>\n",
       "      <td>2001</td>\n",
       "      <td>RUS</td>\n",
       "      <td>32</td>\n",
       "      <td>orekhovsky oleg</td>\n",
       "      <td>D</td>\n",
       "      <td>R</td>\n",
       "      <td>175</td>\n",
       "      <td>88.0</td>\n",
       "      <td>1977-11-03</td>\n",
       "      <td>dynamo moscow</td>\n",
       "      <td>23.490760</td>\n",
       "      <td>1977</td>\n",
       "      <td>28.734694</td>\n",
       "    </tr>\n",
       "    <tr>\n",
       "      <th>...</th>\n",
       "      <td>...</td>\n",
       "      <td>...</td>\n",
       "      <td>...</td>\n",
       "      <td>...</td>\n",
       "      <td>...</td>\n",
       "      <td>...</td>\n",
       "      <td>...</td>\n",
       "      <td>...</td>\n",
       "      <td>...</td>\n",
       "      <td>...</td>\n",
       "      <td>...</td>\n",
       "      <td>...</td>\n",
       "      <td>...</td>\n",
       "    </tr>\n",
       "    <tr>\n",
       "      <th>6286</th>\n",
       "      <td>2016</td>\n",
       "      <td>USA</td>\n",
       "      <td>7</td>\n",
       "      <td>compher j.t.</td>\n",
       "      <td>F</td>\n",
       "      <td>R</td>\n",
       "      <td>180</td>\n",
       "      <td>87.0</td>\n",
       "      <td>1995-04-08</td>\n",
       "      <td>university of michigan</td>\n",
       "      <td>21.065024</td>\n",
       "      <td>1995</td>\n",
       "      <td>26.851852</td>\n",
       "    </tr>\n",
       "    <tr>\n",
       "      <th>6288</th>\n",
       "      <td>2016</td>\n",
       "      <td>USA</td>\n",
       "      <td>72</td>\n",
       "      <td>vatrano frank</td>\n",
       "      <td>F</td>\n",
       "      <td>L</td>\n",
       "      <td>178</td>\n",
       "      <td>98.0</td>\n",
       "      <td>1994-03-14</td>\n",
       "      <td>boston bruins</td>\n",
       "      <td>22.132786</td>\n",
       "      <td>1994</td>\n",
       "      <td>30.930438</td>\n",
       "    </tr>\n",
       "    <tr>\n",
       "      <th>6289</th>\n",
       "      <td>2016</td>\n",
       "      <td>USA</td>\n",
       "      <td>1</td>\n",
       "      <td>kinkaid keith</td>\n",
       "      <td>G</td>\n",
       "      <td>L</td>\n",
       "      <td>191</td>\n",
       "      <td>88.0</td>\n",
       "      <td>1989-07-04</td>\n",
       "      <td>new jersey devils</td>\n",
       "      <td>26.825462</td>\n",
       "      <td>1989</td>\n",
       "      <td>24.122146</td>\n",
       "    </tr>\n",
       "    <tr>\n",
       "      <th>6290</th>\n",
       "      <td>2016</td>\n",
       "      <td>USA</td>\n",
       "      <td>30</td>\n",
       "      <td>condon mike</td>\n",
       "      <td>G</td>\n",
       "      <td>L</td>\n",
       "      <td>188</td>\n",
       "      <td>89.0</td>\n",
       "      <td>1990-04-27</td>\n",
       "      <td>montreal canadiens</td>\n",
       "      <td>26.012320</td>\n",
       "      <td>1990</td>\n",
       "      <td>25.181077</td>\n",
       "    </tr>\n",
       "    <tr>\n",
       "      <th>6291</th>\n",
       "      <td>2016</td>\n",
       "      <td>USA</td>\n",
       "      <td>31</td>\n",
       "      <td>demko thatcher</td>\n",
       "      <td>G</td>\n",
       "      <td>L</td>\n",
       "      <td>193</td>\n",
       "      <td>95.0</td>\n",
       "      <td>1995-12-08</td>\n",
       "      <td>boston college</td>\n",
       "      <td>20.396988</td>\n",
       "      <td>1995</td>\n",
       "      <td>25.504040</td>\n",
       "    </tr>\n",
       "  </tbody>\n",
       "</table>\n",
       "<p>3294 rows × 13 columns</p>\n",
       "</div>"
      ],
      "text/plain": [
       "      year country  no                 name position side  height  weight  \\\n",
       "0     2001     RUS  10     tverdovsky oleg         D    L     185    84.0   \n",
       "1     2001     RUS   2   vichnevsky vitali         D    L     188    86.0   \n",
       "2     2001     RUS  26  petrochinin evgeni         D    L     182    95.0   \n",
       "3     2001     RUS  28     zhdan alexander         D    R     178    85.0   \n",
       "4     2001     RUS  32     orekhovsky oleg         D    R     175    88.0   \n",
       "...    ...     ...  ..                  ...      ...  ...     ...     ...   \n",
       "6286  2016     USA   7         compher j.t.        F    R     180    87.0   \n",
       "6288  2016     USA  72        vatrano frank        F    L     178    98.0   \n",
       "6289  2016     USA   1        kinkaid keith        G    L     191    88.0   \n",
       "6290  2016     USA  30          condon mike        G    L     188    89.0   \n",
       "6291  2016     USA  31       demko thatcher        G    L     193    95.0   \n",
       "\n",
       "          birth                     club        age  cohort        bmi  \n",
       "0    1976-05-18    anaheim mighty ducks   24.952772    1976  24.543462  \n",
       "1    1980-03-18    anaheim mighty ducks   21.119781    1980  24.332277  \n",
       "2    1976-02-07  severstal cherepovetal   25.229295    1976  28.680111  \n",
       "3    1971-08-28           ak bars kazan   29.675565    1971  26.827421  \n",
       "4    1977-11-03           dynamo moscow   23.490760    1977  28.734694  \n",
       "...         ...                      ...        ...     ...        ...  \n",
       "6286 1995-04-08   university of michigan  21.065024    1995  26.851852  \n",
       "6288 1994-03-14            boston bruins  22.132786    1994  30.930438  \n",
       "6289 1989-07-04        new jersey devils  26.825462    1989  24.122146  \n",
       "6290 1990-04-27       montreal canadiens  26.012320    1990  25.181077  \n",
       "6291 1995-12-08           boston college  20.396988    1995  25.504040  \n",
       "\n",
       "[3294 rows x 13 columns]"
      ]
     },
     "execution_count": 2,
     "metadata": {},
     "output_type": "execute_result"
    }
   ],
   "source": [
    "df = pd.read_csv(r'матстат/hockey_players.csv', encoding='cp1251', parse_dates=['birth'])\n",
    "\n",
    "df = df.drop_duplicates(['name', 'birth'])\n",
    "df"
   ]
  },
  {
   "cell_type": "code",
   "execution_count": 4,
   "metadata": {},
   "outputs": [
    {
     "data": {
      "text/plain": [
       "183.829386763813"
      ]
     },
     "execution_count": 4,
     "metadata": {},
     "output_type": "execute_result"
    }
   ],
   "source": [
    "df['height'].mean()"
   ]
  },
  {
   "cell_type": "code",
   "execution_count": 8,
   "metadata": {},
   "outputs": [
    {
     "data": {
      "text/plain": [
       "29.89496366877118"
      ]
     },
     "execution_count": 8,
     "metadata": {},
     "output_type": "execute_result"
    }
   ],
   "source": [
    "df['height'].var()  # дисперсия"
   ]
  },
  {
   "cell_type": "code",
   "execution_count": 7,
   "metadata": {},
   "outputs": [
    {
     "data": {
      "text/plain": [
       "29.885888087815268"
      ]
     },
     "execution_count": 7,
     "metadata": {},
     "output_type": "execute_result"
    }
   ],
   "source": [
    "np.var(df['height'])"
   ]
  },
  {
   "cell_type": "code",
   "execution_count": 10,
   "metadata": {},
   "outputs": [
    {
     "name": "stdout",
     "output_type": "stream",
     "text": [
      "несмещенная: 29.89496366877118\n",
      "смещенная: 29.885888087815268\n"
     ]
    }
   ],
   "source": [
    "print('несмещенная:', df['height'].var(ddof=1))\n",
    "print('смещенная:', df['height'].var(ddof=0))"
   ]
  },
  {
   "cell_type": "code",
   "execution_count": null,
   "metadata": {},
   "outputs": [],
   "source": [
    "df['height'].std()  # СКО"
   ]
  },
  {
   "cell_type": "code",
   "execution_count": 13,
   "metadata": {},
   "outputs": [
    {
     "data": {
      "text/plain": [
       "0    180\n",
       "dtype: int64"
      ]
     },
     "execution_count": 13,
     "metadata": {},
     "output_type": "execute_result"
    }
   ],
   "source": [
    "df['height'].mode()"
   ]
  },
  {
   "cell_type": "code",
   "execution_count": 12,
   "metadata": {},
   "outputs": [
    {
     "data": {
      "text/plain": [
       "184.0"
      ]
     },
     "execution_count": 12,
     "metadata": {},
     "output_type": "execute_result"
    }
   ],
   "source": [
    "df['height'].median()"
   ]
  },
  {
   "cell_type": "code",
   "execution_count": 14,
   "metadata": {},
   "outputs": [
    {
     "data": {
      "text/plain": [
       "184.0"
      ]
     },
     "execution_count": 14,
     "metadata": {},
     "output_type": "execute_result"
    }
   ],
   "source": [
    "df['height'].quantile(0.5)"
   ]
  },
  {
   "cell_type": "code",
   "execution_count": 15,
   "metadata": {
    "scrolled": true
   },
   "outputs": [
    {
     "data": {
      "text/plain": [
       "0.25    180.0\n",
       "0.50    184.0\n",
       "0.75    188.0\n",
       "Name: height, dtype: float64"
      ]
     },
     "execution_count": 15,
     "metadata": {},
     "output_type": "execute_result"
    }
   ],
   "source": [
    "df['height'].quantile([0.25, 0.5, 0.75])"
   ]
  },
  {
   "cell_type": "code",
   "execution_count": 19,
   "metadata": {},
   "outputs": [
    {
     "data": {
      "text/plain": [
       "count    3294.000000\n",
       "mean      183.829387\n",
       "std         5.467629\n",
       "min       165.000000\n",
       "25%       180.000000\n",
       "50%       184.000000\n",
       "75%       188.000000\n",
       "max       205.000000\n",
       "Name: height, dtype: float64"
      ]
     },
     "execution_count": 19,
     "metadata": {},
     "output_type": "execute_result"
    }
   ],
   "source": [
    "df['height'].describe()"
   ]
  },
  {
   "cell_type": "code",
   "execution_count": 6,
   "metadata": {},
   "outputs": [
    {
     "data": {
      "text/plain": [
       "<AxesSubplot:>"
      ]
     },
     "execution_count": 6,
     "metadata": {},
     "output_type": "execute_result"
    },
    {
     "data": {
      "image/png": "[encoded data removed]",
      "text/plain": [
       "<Figure size 640x480 with 1 Axes>"
      ]
     },
     "metadata": {},
     "output_type": "display_data"
    }
   ],
   "source": [
    "df['height'].hist(bins=15)"
   ]
  },
  {
   "cell_type": "code",
   "execution_count": 17,
   "metadata": {
    "scrolled": true
   },
   "outputs": [
    {
     "data": {
      "text/plain": [
       "<matplotlib.axes._subplots.AxesSubplot at 0x285bcba0f08>"
      ]
     },
     "execution_count": 17,
     "metadata": {},
     "output_type": "execute_result"
    },
    {
     "data": {
      "image/png": "[encoded data removed]",
      "text/plain": [
       "<Figure size 432x288 with 1 Axes>"
      ]
     },
     "metadata": {
      "needs_background": "light"
     },
     "output_type": "display_data"
    }
   ],
   "source": [
    "df[['height']].boxplot()"
   ]
  }
 ],
 "metadata": {
  "kernelspec": {
   "display_name": "Python 3 (ipykernel)",
   "language": "python",
   "name": "python3"
  },
  "language_info": {
   "codemirror_mode": {
    "name": "ipython",
    "version": 3
   },
   "file_extension": ".py",
   "mimetype": "text/x-python",
   "name": "python",
   "nbconvert_exporter": "python",
   "pygments_lexer": "ipython3",
   "version": "3.10.9"
  }
 },
 "nbformat": 4,
 "nbformat_minor": 2
}
