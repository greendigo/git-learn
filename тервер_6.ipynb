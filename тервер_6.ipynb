{
 "cells": [
  {
   "cell_type": "markdown",
   "id": "11c6fd2c",
   "metadata": {},
   "source": [
    "Задача 1. Известно, что генеральная совокупность распределена нормально\n",
    "со средним квадратическим отклонением, равным 16.\n",
    "Найти доверительный интервал для оценки математического ожидания с надежностью\n",
    "0.95,\n",
    "если выборочная средняя M = 80, а объем выборки n = 256."
   ]
  },
  {
   "cell_type": "code",
   "execution_count": 6,
   "id": "ef379f75",
   "metadata": {},
   "outputs": [
    {
     "data": {
      "text/plain": [
       "(79.51, 80.49)"
      ]
     },
     "execution_count": 6,
     "metadata": {},
     "output_type": "execute_result"
    }
   ],
   "source": [
    "import numpy\n",
    "import scipy.stats as stats\n",
    "\n",
    "m_left=80-1.96*(numpy.sqrt(16)/numpy.sqrt(256))\n",
    "m_right=80+1.96*(numpy.sqrt(16)/numpy.sqrt(256))\n",
    "m_left, m_right"
   ]
  },
  {
   "cell_type": "markdown",
   "id": "5ebce280",
   "metadata": {},
   "source": [
    "Задача 2. В результате 10 независимых измерений некоторой величины X, выполненных с\n",
    "одинаковой точностью,\n",
    "получены опытные данные:\n",
    "6.9, 6.1, 6.2, 6.8, 7.5, 6.3, 6.4, 6.9, 6.7, 6.1\n",
    "Предполагая, что результаты измерений подчинены нормальному закону распределения\n",
    "вероятностей,\n",
    "оценить истинное значение величины X при помощи доверительного интервала,\n",
    "покрывающего это\n",
    "значение с доверительной вероятностью 0,95."
   ]
  },
  {
   "cell_type": "code",
   "execution_count": 9,
   "id": "bce9f9a5",
   "metadata": {},
   "outputs": [
    {
     "name": "stdout",
     "output_type": "stream",
     "text": [
      "6.590000000000001\n"
     ]
    },
    {
     "data": {
      "text/plain": [
       "(6.8959353256479545, 6.284064674352047)"
      ]
     },
     "execution_count": 9,
     "metadata": {},
     "output_type": "execute_result"
    }
   ],
   "source": [
    "x = numpy.array([6.9, 6.1, 6.2, 6.8, 7.5, 6.3, 6.4, 6.9, 6.7, 6.1])\n",
    "x_mean=numpy.mean(x)\n",
    "x_std=numpy.std(x)\n",
    "n=len(x)\n",
    "t = stats.t.ppf(0.05 / 2, df=(n-1))\n",
    "int_left=x_mean-t*(x_std/numpy.sqrt(n))\n",
    "int_right=x_mean+t*(x_std/numpy.sqrt(n))\n",
    "print(x_mean)\n",
    "int_left, int_right"
   ]
  },
  {
   "cell_type": "markdown",
   "id": "b719d772",
   "metadata": {},
   "source": [
    "Задача 3. Рост дочерей 175, 167, 154, 174, 178, 148, 160, 167, 169, 170\n",
    "Рост матерей 178, 165, 165, 173, 168, 155, 160, 164, 178, 175\n",
    "\n",
    "Используя эти данные построить 95% доверительный интервал для разности среднего\n",
    "роста родителей и детей."
   ]
  },
  {
   "cell_type": "code",
   "execution_count": 21,
   "id": "fe759f85",
   "metadata": {},
   "outputs": [
    {
     "name": "stdout",
     "output_type": "stream",
     "text": [
      "1.9000000000000057\n"
     ]
    },
    {
     "data": {
      "text/plain": [
       "(9.649241760831263, -5.849241760831251)"
      ]
     },
     "execution_count": 21,
     "metadata": {},
     "output_type": "execute_result"
    }
   ],
   "source": [
    "x1 = numpy.array([175, 167, 154, 174, 178, 148, 160, 167, 169, 170])\n",
    "x2 = numpy.array([178, 165, 165, 173, 168, 155, 160, 164, 178, 175])\n",
    "x1_mean=numpy.mean(x1)\n",
    "x1_std=numpy.std(x1)\n",
    "x1_var = numpy.var(x1, ddof=0)\n",
    "n1=len(x1)\n",
    "x2_mean=numpy.mean(x2)\n",
    "x2_std=numpy.std(x2)\n",
    "x2_var = numpy.var(x2, ddof=0)\n",
    "n2=len(x2)\n",
    "x_var = (x1_var+x2_var)/2\n",
    "t = stats.t.ppf(0.05 / 2, df=2*(n1-1)) #здесь n1 или n2, без разницы, объем выборок одинаковый\n",
    "delta=x2_mean-x1_mean\n",
    "Sd=numpy.sqrt((x1_var/n1)+(x2_var/n2))\n",
    "avg_left=delta-t*Sd\n",
    "avg_right=delta+t*Sd\n",
    "print(delta)\n",
    "(avg_left, avg_right)"
   ]
  }
 ],
 "metadata": {
  "kernelspec": {
   "display_name": "Python 3 (ipykernel)",
   "language": "python",
   "name": "python3"
  },
  "language_info": {
   "codemirror_mode": {
    "name": "ipython",
    "version": 3
   },
   "file_extension": ".py",
   "mimetype": "text/x-python",
   "name": "python",
   "nbconvert_exporter": "python",
   "pygments_lexer": "ipython3",
   "version": "3.10.9"
  }
 },
 "nbformat": 4,
 "nbformat_minor": 5
}
