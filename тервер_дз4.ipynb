{
 "cells": [
  {
   "cell_type": "code",
   "execution_count": 1,
   "id": "59faeebb",
   "metadata": {},
   "outputs": [],
   "source": [
    "from scipy import stats"
   ]
  },
  {
   "cell_type": "markdown",
   "id": "9fa656e6",
   "metadata": {},
   "source": [
    "Задача 1. Случайная непрерывная величина A имеет равномерное распределение на\n",
    "промежутке (200, 800].\n",
    "Найдите ее среднее значение и дисперсию."
   ]
  },
  {
   "cell_type": "code",
   "execution_count": 6,
   "id": "b1735d7e",
   "metadata": {},
   "outputs": [
    {
     "data": {
      "text/plain": [
       "(300.0, 30000.0)"
      ]
     },
     "execution_count": 6,
     "metadata": {},
     "output_type": "execute_result"
    }
   ],
   "source": [
    "M = (800+200)/2\n",
    "D = (800-200)**2/12\n",
    "M, D"
   ]
  },
  {
   "cell_type": "markdown",
   "id": "ca3bb3d7",
   "metadata": {},
   "source": [
    "Задача 2. О случайной непрерывной равномерно распределенной величине B известно, что ее\n",
    "дисперсия равна 0.2.\n",
    "Можно ли найти правую границу величины B и ее среднее значение зная, что левая\n",
    "граница равна 0.5?\n",
    "Если да, найдите ее.\n",
    "\n",
    "Поскольку Dx=(b-a)^2/12, то b=sqrt(12 * Dx)+a\n",
    "Mx=a+b/2"
   ]
  },
  {
   "cell_type": "code",
   "execution_count": 14,
   "id": "efcab9f2",
   "metadata": {},
   "outputs": [
    {
     "data": {
      "text/plain": [
       "(1.7000000000000002, 1.1)"
      ]
     },
     "execution_count": 14,
     "metadata": {},
     "output_type": "execute_result"
    }
   ],
   "source": [
    "b = 0.5+(12*0.2)**1/2\n",
    "Mx=(0.5+b)/2\n",
    "\n",
    "b, Mx"
   ]
  },
  {
   "cell_type": "markdown",
   "id": "4d1ba74b",
   "metadata": {},
   "source": [
    "Задача 3. Непрерывная случайная величина X распределена нормально и задана плотностью\n",
    "распределения\n",
    "f(x) = (1 / (4 * sqrt(2pi))) * exp((-(x+2)\\*\\*2) / 32)\n",
    "Найдите:\n",
    "а). M(X)\n",
    "б). D(X)\n",
    "в). std(X) (среднее квадратичное отклонение)\n",
    "\n",
    "а) -2\n",
    "б) 16\n",
    "в) 4"
   ]
  },
  {
   "cell_type": "markdown",
   "id": "b3fcb204",
   "metadata": {},
   "source": [
    "Задача 4. Рост взрослого населения города X имеет нормальное распределение, причем, средний рост равен 174 см, а среднее квадратическое отклонение равно 8 см. посчитайте, какова вероятность того, что случайным образом выбранный взрослый человек имеет рост:\n",
    "1. больше 182 см?\n",
    "2. больше 190 см?\n",
    "3. от 166 см до 190 см?\n",
    "4. от 166 см до 182 см?\n",
    "5. от 158 см до 190 см?\n",
    "6. не выше 150 см или не ниже 190 см?\n",
    "7. не выше 150 см или не ниже 198 см?\n",
    "8. ниже 166 см?\n"
   ]
  },
  {
   "cell_type": "code",
   "execution_count": 16,
   "id": "15ed3107",
   "metadata": {},
   "outputs": [
    {
     "data": {
      "text/plain": [
       "0.13029451713680884"
      ]
     },
     "execution_count": 16,
     "metadata": {},
     "output_type": "execute_result"
    }
   ],
   "source": [
    "1 - stats.norm.cdf(182, loc=173, scale=8)"
   ]
  },
  {
   "cell_type": "code",
   "execution_count": 17,
   "id": "be94b671",
   "metadata": {},
   "outputs": [
    {
     "data": {
      "text/plain": [
       "0.016793306448448786"
      ]
     },
     "execution_count": 17,
     "metadata": {},
     "output_type": "execute_result"
    }
   ],
   "source": [
    "1 - stats.norm.cdf(190, loc=173, scale=8)"
   ]
  },
  {
   "cell_type": "code",
   "execution_count": 18,
   "id": "73cd7576",
   "metadata": {},
   "outputs": [
    {
     "data": {
      "text/plain": [
       "0.7924197406990405"
      ]
     },
     "execution_count": 18,
     "metadata": {},
     "output_type": "execute_result"
    }
   ],
   "source": [
    "stats.norm.cdf(190, loc=173, scale=8) - stats.norm.cdf(166, loc=173, scale=8)"
   ]
  },
  {
   "cell_type": "code",
   "execution_count": 19,
   "id": "598950a0",
   "metadata": {},
   "outputs": [
    {
     "data": {
      "text/plain": [
       "0.6789185300106805"
      ]
     },
     "execution_count": 19,
     "metadata": {},
     "output_type": "execute_result"
    }
   ],
   "source": [
    "stats.norm.cdf(182, loc=173, scale=8) - stats.norm.cdf(166, loc=173, scale=8)"
   ]
  },
  {
   "cell_type": "code",
   "execution_count": 20,
   "id": "44468e9e",
   "metadata": {},
   "outputs": [
    {
     "data": {
      "text/plain": [
       "0.9528103317862898"
      ]
     },
     "execution_count": 20,
     "metadata": {},
     "output_type": "execute_result"
    }
   ],
   "source": [
    "stats.norm.cdf(190, loc=173, scale=8) - stats.norm.cdf(158, loc=173, scale=8)"
   ]
  },
  {
   "cell_type": "code",
   "execution_count": 21,
   "id": "e1f47a6b",
   "metadata": {},
   "outputs": [
    {
     "data": {
      "text/plain": [
       "0.01881344393839479"
      ]
     },
     "execution_count": 21,
     "metadata": {},
     "output_type": "execute_result"
    }
   ],
   "source": [
    "(stats.norm.cdf(150, loc=173, scale=8)) + 1 - stats.norm.cdf(190, loc=173, scale=8)"
   ]
  },
  {
   "cell_type": "code",
   "execution_count": 22,
   "id": "e51fbd80",
   "metadata": {},
   "outputs": [
    {
     "data": {
      "text/plain": [
       "0.002909162789054398"
      ]
     },
     "execution_count": 22,
     "metadata": {},
     "output_type": "execute_result"
    }
   ],
   "source": [
    "(stats.norm.cdf(150, loc=173, scale=8)) + 1 - stats.norm.cdf(198, loc=173, scale=8)"
   ]
  },
  {
   "cell_type": "code",
   "execution_count": 24,
   "id": "1395c7b3",
   "metadata": {
    "scrolled": true
   },
   "outputs": [
    {
     "data": {
      "text/plain": [
       "0.19078695285251068"
      ]
     },
     "execution_count": 24,
     "metadata": {},
     "output_type": "execute_result"
    }
   ],
   "source": [
    "(stats.norm.cdf(166, loc=173, scale=8))"
   ]
  },
  {
   "cell_type": "markdown",
   "id": "83638f8c",
   "metadata": {},
   "source": [
    "Задача 5. На сколько сигм (средних квадратичных отклонений) отклоняется рост человека,\n",
    "равный 190 см, от\n",
    "математического ожидания роста в популяции, в которой M(X) = 178 см и D(X) = 25 кв.см?"
   ]
  },
  {
   "cell_type": "code",
   "execution_count": 25,
   "id": "da32fca1",
   "metadata": {},
   "outputs": [
    {
     "data": {
      "text/plain": [
       "2.4"
      ]
     },
     "execution_count": 25,
     "metadata": {},
     "output_type": "execute_result"
    }
   ],
   "source": [
    "(190-178)/5"
   ]
  },
  {
   "cell_type": "code",
   "execution_count": null,
   "id": "a8103c8e",
   "metadata": {},
   "outputs": [],
   "source": []
  }
 ],
 "metadata": {
  "kernelspec": {
   "display_name": "Python 3 (ipykernel)",
   "language": "python",
   "name": "python3"
  },
  "language_info": {
   "codemirror_mode": {
    "name": "ipython",
    "version": 3
   },
   "file_extension": ".py",
   "mimetype": "text/x-python",
   "name": "python",
   "nbconvert_exporter": "python",
   "pygments_lexer": "ipython3",
   "version": "3.10.9"
  }
 },
 "nbformat": 4,
 "nbformat_minor": 5
}
